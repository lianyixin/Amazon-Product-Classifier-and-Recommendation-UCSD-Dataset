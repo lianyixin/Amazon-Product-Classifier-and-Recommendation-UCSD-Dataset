{
 "cells": [
  {
   "cell_type": "code",
   "execution_count": 1,
   "metadata": {},
   "outputs": [],
   "source": [
    "import pandas as pd\n",
    "import gzip\n",
    "\n",
    "def parse(path):\n",
    "    g = gzip.open(path, 'rb')\n",
    "    for l in g:\n",
    "        yield eval(l)\n",
    "\n",
    "def getDF(path):\n",
    "    i = 0\n",
    "    df = {}\n",
    "    for d in parse(path):\n",
    "        df[i] = d\n",
    "        i += 1\n",
    "    return pd.DataFrame.from_dict(df, orient='index')\n",
    "\n",
    "ratings= getDF('reviews_Beauty_5.json.gz')"
   ]
  },
  {
   "cell_type": "code",
   "execution_count": 2,
   "metadata": {},
   "outputs": [],
   "source": [
    "ratings.rename(columns={'reviewerID': 'user_id', \n",
    "                        'asin': 'item_id', \n",
    "                        'reviewerName': 'user_name', \n",
    "                        'reviewText': 'review_text',\n",
    "                        'summary': 'review_summary',\n",
    "                        'overall': 'score'},\n",
    "               inplace=True)\n"
   ]
  },
  {
   "cell_type": "code",
   "execution_count": 3,
   "metadata": {},
   "outputs": [],
   "source": [
    "ratings.user_id = ratings.user_id.astype('category').cat.codes.values\n",
    "ratings.item_id = ratings.item_id.astype('category').cat.codes.values\n",
    "# Add IDs for embeddings.\n",
    "ratings['user_emb_id'] = ratings['user_id']\n",
    "ratings['item_emb_id'] = ratings['item_id']"
   ]
  },
  {
   "cell_type": "code",
   "execution_count": 4,
   "metadata": {},
   "outputs": [],
   "source": [
    "import spacy\n",
    "import numpy as np\n",
    "import sklearn.metrics\n",
    "nlp_en = spacy.load('en', vectors='en_glove_cc_300_1m')\n",
    "example_reviews = ratings.review_summary.tolist()\n",
    "example_embs = np.vstack([nlp_en(e).vector for e in example_reviews])\n",
    "#sklearn.metrics.pairwise.cosine_similarity(example_embs)"
   ]
  },
  {
   "cell_type": "code",
   "execution_count": 5,
   "metadata": {},
   "outputs": [],
   "source": [
    "# Multinomial Naive Bayes Classifier\n",
    "def naive_bayes_classifier(train_x, train_y):\n",
    "    from sklearn.naive_bayes import MultinomialNB\n",
    "    model = MultinomialNB(alpha=0.01)\n",
    "    model.fit(train_x, train_y)\n",
    "    return model\n",
    "\n",
    "# KNN Classifier\n",
    "def knn_classifier(train_x, train_y):\n",
    "    from sklearn.neighbors import KNeighborsClassifier\n",
    "    model = KNeighborsClassifier()\n",
    "    model.fit(train_x, train_y)\n",
    "    return model\n",
    "\n",
    "# Logistic Regression Classifier\n",
    "def logistic_regression_classifier(train_x, train_y):\n",
    "    from sklearn.linear_model import LogisticRegression\n",
    "    model = LogisticRegression(penalty='l2')\n",
    "    model.fit(train_x, train_y)\n",
    "    return model\n",
    " \n",
    "\n",
    "# Random Forest Classifier\n",
    "def random_forest_classifier(train_x, train_y):\n",
    "    from sklearn.ensemble import RandomForestClassifier\n",
    "    model = RandomForestClassifier(n_estimators=8)\n",
    "    model.fit(train_x, train_y)\n",
    "    return model\n",
    " \n",
    "# Decision Tree Classifier \n",
    "def decision_tree_classifier(train_x, train_y):\n",
    "    from sklearn import tree\n",
    "    model = tree.DecisionTreeClassifier()\n",
    "    model.fit(train_x, train_y)\n",
    "    return model\n",
    " \n",
    "\n",
    "# GBDT(Gradient Boosting Decision Tree) Classifier\n",
    "def gradient_boosting_classifier(train_x, train_y):\n",
    "    from sklearn.ensemble import GradientBoostingClassifier\n",
    "    model = GradientBoostingClassifier(n_estimators=200)\n",
    "    model.fit(train_x, train_y)\n",
    "    return model\n",
    "\n",
    "\n",
    "# SVM Classifier\n",
    "def svm_classifier(train_x, train_y):\n",
    "    from sklearn.svm import SVC\n",
    "    model = SVC(kernel='rbf', probability=True)\n",
    "    model.fit(train_x, train_y)\n",
    "    return model\n",
    " \n"
   ]
  },
  {
   "cell_type": "code",
   "execution_count": 6,
   "metadata": {},
   "outputs": [],
   "source": [
    "scoregeq4 = ratings.score.where(ratings.score>=4, 0)\n",
    "scoregeq4 = scoregeq4.where(ratings.score<4, 1)\n"
   ]
  },
  {
   "cell_type": "code",
   "execution_count": 7,
   "metadata": {},
   "outputs": [],
   "source": [
    "a = np.array(scoregeq4)[np.newaxis].T\n",
    "data = np.append(a, example_embs, axis=1)\n",
    "from sklearn.model_selection import train_test_split\n",
    "train, test = train_test_split(data, test_size=0.2)"
   ]
  },
  {
   "cell_type": "code",
   "execution_count": 8,
   "metadata": {},
   "outputs": [],
   "source": [
    "train_y = train[:, 0]\n",
    "train_x = train[:, 1:]\n",
    "test_y = test[:, 0]\n",
    "test_x = test[:, 1:]"
   ]
  },
  {
   "cell_type": "code",
   "execution_count": 10,
   "metadata": {},
   "outputs": [
    {
     "name": "stdout",
     "output_type": "stream",
     "text": [
      "******************* LR ********************\n",
      "training took 69.624401s!\n",
      "precision: 84.96%, recall: 95.34%\n",
      "accuracy: 83.22%\n",
      "******************* RF ********************\n"
     ]
    },
    {
     "name": "stderr",
     "output_type": "stream",
     "text": [
      "/Applications/anaconda3/lib/python3.6/site-packages/sklearn/ensemble/weight_boosting.py:29: DeprecationWarning: numpy.core.umath_tests is an internal NumPy module and should not be imported. It will be removed in a future NumPy release.\n",
      "  from numpy.core.umath_tests import inner1d\n"
     ]
    },
    {
     "name": "stdout",
     "output_type": "stream",
     "text": [
      "training took 30.648948s!\n",
      "precision: 86.28%, recall: 91.43%\n",
      "accuracy: 82.00%\n",
      "******************* DT ********************\n",
      "training took 157.062050s!\n",
      "precision: 86.01%, recall: 84.92%\n",
      "accuracy: 77.49%\n"
     ]
    }
   ],
   "source": [
    "import time\n",
    "from sklearn import metrics\n",
    "if __name__ == '__main__':\n",
    "    \n",
    "    classifiers = {'NB':naive_bayes_classifier,\n",
    "                  'KNN':knn_classifier,\n",
    "                   'LR':logistic_regression_classifier,\n",
    "                   'RF':random_forest_classifier,\n",
    "                   'DT':decision_tree_classifier,\n",
    "                  'SVM':svm_classifier,\n",
    "                 'GBDT':gradient_boosting_classifier} \n",
    "    \n",
    "    test_classifiers = ['LR', 'RF', 'DT']\n",
    "    is_binary_class = (len(np.unique(train_y)) == 2)\n",
    "    \n",
    "    for classifier in test_classifiers:\n",
    "        print ('******************* %s ********************' % classifier)\n",
    "        start_time = time.time()\n",
    "        model = classifiers[classifier](train_x, train_y)\n",
    "        print ('training took %fs!' % (time.time() - start_time))\n",
    "        predict = model.predict(test_x)\n",
    "        #print(is_binary_class)\n",
    "        if is_binary_class:\n",
    "            precision = metrics.precision_score(test_y, predict)\n",
    "            recall = metrics.recall_score(test_y, predict)\n",
    "            print ('precision: %.2f%%, recall: %.2f%%' % (100 * precision, 100 * recall))\n",
    "        accuracy = metrics.accuracy_score(test_y, predict)\n",
    "        print ('accuracy: %.2f%%' % (100 * accuracy))"
   ]
  },
  {
   "cell_type": "code",
   "execution_count": null,
   "metadata": {},
   "outputs": [],
   "source": []
  }
 ],
 "metadata": {
  "kernelspec": {
   "display_name": "Python 3",
   "language": "python",
   "name": "python3"
  },
  "language_info": {
   "codemirror_mode": {
    "name": "ipython",
    "version": 3
   },
   "file_extension": ".py",
   "mimetype": "text/x-python",
   "name": "python",
   "nbconvert_exporter": "python",
   "pygments_lexer": "ipython3",
   "version": "3.6.5"
  }
 },
 "nbformat": 4,
 "nbformat_minor": 2
}
